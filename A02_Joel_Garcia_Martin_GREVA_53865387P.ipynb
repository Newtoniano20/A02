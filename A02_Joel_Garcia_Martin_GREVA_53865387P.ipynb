{
 "cells": [
  {
   "cell_type": "markdown",
   "metadata": {},
   "source": [
    "<center><img src=\"./logo.png\"></center>"
   ]
  },
  {
   "cell_type": "markdown",
   "metadata": {},
   "source": [
    "<center><h2>Estructures Aeroespacials</h2></center>\n",
    "<center><h1 style=\"color: red\">The Staircase Project</h1></center>\n",
    "<center><h4>March 2025</h4></center>\n",
    "<center><h4>Joel Garcia Martin</h4></center>"
   ]
  },
  {
   "cell_type": "markdown",
   "metadata": {},
   "source": [
    "___Note___: This assignment was intended to be done using MATLAB, but after asking the professor he allowed me to do it in Python. Must be noted that the syntaxis and functions are very different in some cases and because of that I have had to rewrite some of the initial conditions and functions given with this assignment. \n",
    "\n",
    "Doing this in python was mostly a challenge to myself, as I would need to understand the equations to write this as most of the instructions we were given were in MATLAB.\n",
    "\n",
    "Most of the code is commented with explanations, as there is not much to say about the functions and provided code"
   ]
  },
  {
   "cell_type": "markdown",
   "metadata": {},
   "source": [
    "# Introduction\n",
    "In the Netflix adaptation of The Three-Body Problem book series, the protagonists attempt to send a preserved human brain into space to intercept an incoming alien fleet. Their goal is to accelerate the probe containing the brain to approximately 1% lightspeed (c=3x10^8 m/s) in order to reach the fleet within a reasonable timeframe. The idea behind the Staircase Project is to propel the probe using a series of nuclear explosions to transfer the momentum of the plasma ejected to a solar sail. In this assignment, we will study the feasibility of this project from a structural point of view.\n",
    "\n",
    "# Estimation of the thrust force\n",
    "To make an estimation of the thrust force we will make the following assumptions:\n",
    "- Each detonation ejects mp=4.468 x 10^6 kg of plasma (more or less equivalent to a 10-megaton explosion).\n",
    "- The plasma is released within tp=0.1 seconds in all directions as a sinusoidal pulse (half-period) advancing at a speed of Vp = 125000 km/s (see Figure 1).\n",
    "- The plasma pulse reaches the probe at a distance d = 200 km.\n",
    "- The total mass of the probe and solar sail is  kg, and the pusher plate surface is S = 900 m^2."
   ]
  },
  {
   "cell_type": "markdown",
   "metadata": {},
   "source": [
    "<center><img src=\"./image.png\" style=\"width: 150px; background-color: white\"></center>\n",
    "<center>Figure 1: Plasma mass ejection rate</center>"
   ]
  },
  {
   "cell_type": "markdown",
   "metadata": {},
   "source": [
    "Based on these hypothesis, the mass ejection rate of each nuclear explosion is given by:\n",
    "\n",
    "$`\\dot m_p(t) = \\frac{\\pi}{2}\\frac{m_p}{t_p}sin(\\frac{\\pi t}{t_p})`$\n",
    "\n",
    "Considering $`S<<d^2`$ and $`V<<V_p`$, from the conservation of linear momentum:\n",
    "\n",
    "$`M\\frac{dV}{dt} \\approx \\dot m_p(t)\\frac{S}{4 \\pi d^2}V_p`$\n",
    "\n",
    "Integrating both sides over a period  we can obtain the impulse obtained from each nuclear detonation:\n",
    "\n",
    "$`\\Delta V \\approx \\frac{m_p}{M}\\frac{S}{4 \\pi d^2}V_p = 10km/s`$\n",
    "\n",
    "Acording to these calculations, with 300 concatenated explosions (the number given in the fiction), the probe would reach a velocity close to V=3000 km/s. However, if the detonations are produced at enough distance from one another, the thrust transfered to the structure in each one will be the same. Assuming the force is distributed uniformly over the pusher plate surface, the pressure is given by: \n",
    "\n",
    "$` p_T(t) = \\frac{\\dot m_p(t)}{4 \\pi d^2}V_p`$\n",
    "\n",
    "# Solar Sail Design\n",
    "Figure 2 shows a schematic representation of the solar sail. The total mass of the solar sail is M = 100 kg, which includes the mass of the structure (bar elements), $`M_s`$. The remaining mass, $`M_R = M - M_s`$ , which accounts for the payload, the communications antenna, etc., is distributed: 20% to node 1, 40% to nodes 2, 3, 4 and 5 (10% each), and 40% to node 6.  Reference material properties for each structural component are given in Table 2.\n"
   ]
  },
  {
   "cell_type": "markdown",
   "metadata": {},
   "source": [
    "<img src=\"./table.png\" style=\"width: 300px; background-color: white\">"
   ]
  },
  {
   "cell_type": "markdown",
   "metadata": {},
   "source": [
    "<center><img src=\"./download.png\" style=\"width: 800px; background-color: white\"></center>"
   ]
  },
  {
   "cell_type": "markdown",
   "metadata": {},
   "source": [
    "Figure 1. Schematic representation of the solar sail structure. Data: L = 30 m, H = 5 m, l = 1 m, h = 1 m, a = 50 mm, b = 25 mm, w = 3 mm, $`D_a =`$ 75 mm, $`d_a =`$ 50 mm, $`D_p =`$ 15 mm, $`d_p =`$ 9 mm, $`D_c =`$ 5 mm."
   ]
  },
  {
   "cell_type": "markdown",
   "metadata": {},
   "source": [
    "Considering that, in each impulse, the thrust force is distributed uniformly over the the pusher plate surface (acting as a time-dependent pressure $`p_T(t)`$ defined previously). The following is asked:\n",
    "- Plot of the deformed structure and stress-state of each element in the most critical scenario. [Optionally, get the results in a sequence of time instants of interest]\n",
    "- Discuss whether the proposed design is capable of fulfilling the mission according to the hypothesis considered. Are material properties considered realistic? What changes on the solar sail structural design would you suggest to improve the chances of success of the mission? [Example: changing material or geometrical features, adding prestress to elements at risk of buckling, etc.]\n",
    "\n",
    "Justify your arguments with quantitative metrics."
   ]
  },
  {
   "cell_type": "markdown",
   "metadata": {},
   "source": [
    "# The Code\n",
    "\n",
    "We start by importing some libraries for graphing (matplotlib) and math functions (numpy)."
   ]
  },
  {
   "cell_type": "code",
   "execution_count": 39,
   "metadata": {},
   "outputs": [],
   "source": [
    "import numpy as np\n",
    "import matplotlib.pyplot as plt\n",
    "from mpl_toolkits.mplot3d.art3d import Line3DCollection"
   ]
  },
  {
   "cell_type": "markdown",
   "metadata": {},
   "source": [
    "## Global Definitions"
   ]
  },
  {
   "cell_type": "markdown",
   "metadata": {},
   "source": [
    "Using provided arrays in the assignment, we will define all necessary values and arrays for this simulation. After the definitions, we will create our own solve function, to compute the solution of each problem and a helper function to plot the deformation and color using the stress state.\n",
    "\n",
    "As the plot function was given in MATLAB, I have had to rebuilt it in Python"
   ]
  },
  {
   "cell_type": "markdown",
   "metadata": {},
   "source": [
    "### Global Variables"
   ]
  },
  {
   "cell_type": "code",
   "execution_count": 40,
   "metadata": {},
   "outputs": [],
   "source": [
    "# Define data values\n",
    "h = 1\n",
    "l = 1\n",
    "H = 5\n",
    "L = 30\n",
    "\n",
    "# Nodal coordinates\n",
    "xnod = np.array([\n",
    "    [0,  0,  0],\n",
    "    [0,  h, -l/2],\n",
    "    [l/2, h,  0],\n",
    "    [0,  h,  l/2],\n",
    "    [-l/2, h,  0],\n",
    "    [0, -H,  0],\n",
    "    [-L/2, h, -L/2], \n",
    "    [L/2, h, -L/2],\n",
    "    [L/2, h,  L/2],\n",
    "    [-L/2, h,  L/2],\n",
    "])\n",
    "\n",
    "# Nodal connectivities\n",
    "Tnod = np.array([\n",
    "    [0, 1],\n",
    "    [0, 2],\n",
    "    [0, 3],\n",
    "    [0, 4],\n",
    "    [1, 2],\n",
    "    [2, 3],\n",
    "    [3, 4],\n",
    "    [4, 1],\n",
    "    [0, 5],\n",
    "    [4, 6],\n",
    "    [1, 6],\n",
    "    [1, 7],\n",
    "    [2, 7],\n",
    "    [2, 8],\n",
    "    [3, 8],\n",
    "    [3, 9],\n",
    "    [4, 9],\n",
    "    [6, 7],\n",
    "    [7, 8],\n",
    "    [8, 9],\n",
    "    [9, 6],\n",
    "    [5, 6],\n",
    "    [5, 7],\n",
    "    [5, 8],\n",
    "    [5, 9],\n",
    "    [0, 6],\n",
    "    [0, 7],\n",
    "    [0, 8],\n",
    "    [0, 9],\n",
    "])\n",
    "\n",
    "# probe structure\n",
    "b_mat1 = 25e-3 # m\n",
    "a_mat1 = 50e-3 # m\n",
    "w_mat1 = 3e-3 # m\n",
    "# Antenna mast:\n",
    "Da_mat2 = 75e-3 # m\n",
    "da_mat2 = 50e-3 # m\n",
    "# Pusher plate structure:\n",
    "Dp_mat3 = 15e-3 # m\n",
    "dp_ma3 = 9e-3 # m\n",
    "# Support Cables:\n",
    "Dc_mat4 = 5e-3 # m\n",
    "\n",
    "mat = np.array([\n",
    "    # E, A, density, sigma_0\n",
    "    [70e9, ((a_mat1 + w_mat1) * w_mat1 + b_mat1 * w_mat1 * 2), 2275, 0],\n",
    "    [85e9, np.pi * ((Da_mat2/2) ** 2) - np.pi * ((da_mat2/2) ** 2), 2400, 0],\n",
    "    [100e9, np.pi * (Dp_mat3/2) ** 2 - np.pi * (dp_ma3/2) ** 2, 1100, 0],\n",
    "    [1000e9, np.pi * (Dc_mat4/2) ** 2, 1000, 0],\n",
    "])\n",
    "\n",
    "# Material connectivities\n",
    "Tmat = [\n",
    "    0,  # Probe (index 0)\n",
    "    0,\n",
    "    0,\n",
    "    0,\n",
    "    0,\n",
    "    0,\n",
    "    0,\n",
    "    0,\n",
    "    1,  # Antenna mast (index 1)\n",
    "    2,  # Pusher plate structure (index 2)\n",
    "    2,\n",
    "    2,\n",
    "    2,\n",
    "    2,\n",
    "    2,\n",
    "    2,\n",
    "    2,\n",
    "    2,\n",
    "    2,\n",
    "    2,\n",
    "    2,\n",
    "    3,  # Support cables (index 3)\n",
    "    3,\n",
    "    3,\n",
    "    3,\n",
    "    3,\n",
    "    3,\n",
    "    3,\n",
    "    3\n",
    "]\n",
    "\n",
    "nnod = xnod.shape[0] # Number of nodes\n",
    "ni = 3\n",
    "nel = Tnod.shape[0] # Number of Elements\n",
    "nne = Tnod.shape[1]\n",
    "ndof = nnod * ni\n",
    "nde = nne * ni\n",
    "# Equivalent of MATLAB's repelem(Tnod, [1, ni])\n",
    "Tnod_repeated = np.repeat(Tnod, ni, axis=1)\n",
    "\n",
    "# Equivalent of MATLAB's repmat(1:ni, size(Tnod))\n",
    "dof_matrix = np.tile(np.arange(1, ni + 1), (Tnod_repeated.shape[0], 2))\n",
    "\n",
    "# Compute Tdof\n",
    "Tdof = ni * (Tnod_repeated) + dof_matrix - 1"
   ]
  },
  {
   "cell_type": "markdown",
   "metadata": {},
   "source": [
    "#### Solver Function (same as 2D case, but updated for 3D):"
   ]
  },
  {
   "cell_type": "code",
   "execution_count": 41,
   "metadata": {},
   "outputs": [],
   "source": [
    "# Solver\n",
    "# Here we are going to create a function that will solve the problem for us. This is done following provided guidelines.\n",
    "def solver(xnod, Tnod, mat, Tmat, fixnod, fdata):\n",
    "\n",
    "    Kels = np.zeros((nde, nde, nel)) # List of Ks for each element\n",
    "    Fels = np.zeros((nde, nel)) # List of Forces for each element\n",
    "\n",
    "    K = np.zeros((ndof, ndof))   # Global K matrix\n",
    "    f = np.zeros((ndof, 1))     # Global Forces matrix\n",
    "    u = np.zeros((ndof, 1))     # Global displacements matrix\n",
    "    strain = np.zeros((nel, 1))     # Global strain matrix\n",
    "    vr = []                     # Restricted degrees of freedom\n",
    "\n",
    "    sigmas = np.zeros((nel, 1))   # Stress Matrix (Result of the solver)\n",
    "    for e in range(nel):           # For every element\n",
    "        x1, y1, z1 = xnod[Tnod[e][0]]  # Get coordinates\n",
    "        x2, y2, z2 = xnod[Tnod[e][1]]  # Get coordinates\n",
    "        E, A, d, sigma_0 = mat[Tmat[e]] # Get Material Info\n",
    "        l = np.sqrt((x2- x1) ** 2 + (y2 - y1) ** 2 + (z2 - z1) ** 2) # Compute its length\n",
    "        cx = (x2 - x1)/l  # cx for rotation matrix\n",
    "        cy = (y2 - y1)/l  # cy for rotation matrix\n",
    "        cz = (z2 - z1)/l  # cz for rotation matrix\n",
    "        R = np.array([\n",
    "            [cx, cy, cz, 0 , 0 , 0],\n",
    "            [0 , 0 , 0 , cx, cy, cz],\n",
    "            ]) # Rotation Matrix\n",
    "        \n",
    "        Fels[:, e] = - sigma_0 * A * np.matmul(R.T, np.array([-1, 1])) # Computing initial forces from stresses\n",
    "        Kels[:, :, e] = ((E * A)/l) * np.matmul(np.matmul(R.T, np.array([\n",
    "            [1, -1],\n",
    "            [-1, 1],\n",
    "        ])), R) # Computing K matrix of element\n",
    "\n",
    "    for e in range(nel): # For every Element\n",
    "        I = Tdof[e, :] # Get degrees of freedom\n",
    "        f[I] += np.array(Fels)[:, e].reshape(-1, 1) # Add Forces to global matrix using degrees of freedom\n",
    "        K[np.ix_(I, I)] += Kels[:, :, e] \n",
    "\n",
    "    for node, dof, force in fdata: # for every force in fdata\n",
    "        gdof = int(ni * (node) + dof) # Get degree of freedom of node\n",
    "        f[gdof] += force  # Add force to global force vector\n",
    "\n",
    "    for node, node_dof, displ in fixnod: # for every fixed node in fixnod\n",
    "        gdof = int(ni * (node) + node_dof) # Get degree of freedom of node\n",
    "        u[gdof] = displ    # Set displacement of node\n",
    "        if gdof not in vr:\n",
    "            vr.append(gdof) # Add to restricted degrees of freedom\n",
    "\n",
    "    vf = np.setdiff1d(np.arange(ndof), vr) # Free degrees of freedom\n",
    "\n",
    "    # Dividing Matrix into free and restricted:\n",
    "    K_ff = K[np.ix_(vf, vf)]\n",
    "    K_fr = K[np.ix_(vf, vr)]\n",
    "    f_f = f[vf]\n",
    "\n",
    "    # Computing The displacement Matrix\n",
    "    u[vf] = np.linalg.inv(K_ff) @ (f_f - K_fr @ u[vr])\n",
    "\n",
    "    # Computing Reaction forces\n",
    "    r = K[vr, :] @ u - f[vr]\n",
    "    \n",
    "    # Next, we will compute stress:\n",
    "    for e in range(nel):\n",
    "        x1, y1, z1 = xnod[Tnod[e][0]]  # Get coordinates\n",
    "        x2, y2, z2 = xnod[Tnod[e][1]]  # Get coordinates\n",
    "        E, A, d, sigma_0 = mat[Tmat[e]] # Get Material Info\n",
    "        l = np.sqrt((x2- x1) ** 2 + (y2 - y1) ** 2 + (z2 - z1) ** 2) # Compute its length\n",
    "        cx = (x2 - x1)/l  # cx for rotation matrix\n",
    "        cy = (y2 - y1)/l  # cy for rotation matrix\n",
    "        cz = (z2 - z1)/l  # cz for rotation matrix\n",
    "        R = np.array([\n",
    "            [cx, cy, cz, 0 , 0 , 0],\n",
    "            [0 , 0 , 0 , cx, cy, cz],\n",
    "            ]) # Rotation Matrix\n",
    "        uel = u[I]  # Displacement of element\n",
    "        uel_prime = R @ uel  # Displacement of element in global coordinates\n",
    "        epsilon = (uel_prime[1] - uel_prime[0])/l # Computing strain\n",
    "        strain[e] = epsilon\n",
    "        sigmas[e] = sigma_0 + E * epsilon # Computing stress from strain\n",
    "    return u, r, sigmas, strain"
   ]
  },
  {
   "cell_type": "code",
   "execution_count": null,
   "metadata": {},
   "outputs": [],
   "source": [
    "def plot3DBars(xnod, Tnod, disp, stress, scale, units, name, time):\n",
    "    # Number of steps\n",
    "    N = disp.shape[1]\n",
    "    \n",
    "    # Precomputations\n",
    "    X, Y, Z = xnod[:, 0], xnod[:, 1], xnod[:, 2]\n",
    "    Ux = scale * disp[0::3, 0]\n",
    "    Uy = scale * disp[1::3, 0]\n",
    "    Uz = scale * disp[2::3, 0]\n",
    "    smin, smax = np.min(stress), np.max(stress)\n",
    "    \n",
    "    xmax = np.max([np.max(X), np.max(X + scale * disp[0::3, :])])\n",
    "    xmin = np.min([np.min(X), np.min(X + scale * disp[0::3, :])])\n",
    "    ymax = np.max([np.max(Y), np.max(Y + scale * disp[1::3, :])])\n",
    "    ymin = np.min([np.min(Y), np.min(Y + scale * disp[1::3, :])])\n",
    "    zmax = np.max([np.max(Z), np.max(Z + scale * disp[2::3, :])])\n",
    "    zmin = np.min([np.min(Z), np.min(Z + scale * disp[2::3, :])])\n",
    "    \n",
    "    # Open plot window\n",
    "    fig = plt.figure()\n",
    "    ax = fig.add_subplot(111, projection='3d')\n",
    "    ax.set_box_aspect([1,1,1])\n",
    "    ax.view_init(elev=15, azim=30)\n",
    "    \n",
    "    # Plot undeformed structure\n",
    "    for elem in Tnod:\n",
    "        ax.plot(X[elem], Y[elem], Z[elem], color=\"#ffffff\", linewidth=0.5)\n",
    "    \n",
    "    # Plot deformed structure\n",
    "    lines = [list(zip(X[elem] + Ux[elem], Y[elem] + Uy[elem], Z[elem] + Uz[elem])) for elem in Tnod]\n",
    "    lc = Line3DCollection(lines, cmap='coolwarm', linewidth=1)\n",
    "    lc.set_array(stress[:, 0])\n",
    "    ax.add_collection(lc)\n",
    "    \n",
    "    # Set limits\n",
    "    ax.set_xlim([xmin, xmax])\n",
    "    ax.set_ylim([ymin, ymax])\n",
    "    ax.set_zlim([zmin, zmax])\n",
    "    \n",
    "    # Colorbar settings\n",
    "    cb = fig.colorbar(lc, ax=ax, shrink=0.5, aspect=10)\n",
    "    cb.set_label(f'Stress ({units})')\n",
    "    \n",
    "    # Labels\n",
    "    ax.set_title(f'scale = {scale} (σ_min = {smin:.3g} {units} | σ_max = {smax:.3g} {units} | time {time} s)')\n",
    "    ax.set_xlabel('x (m)')\n",
    "    ax.set_ylabel('y (m)')\n",
    "    ax.set_zlabel('z (m)')\n",
    "    ax.set_ylim((-6, 1))\n",
    "    \n",
    "    \n",
    "    # Animate different timesteps (at the end, I ended up just doing one at a time and then joining\n",
    "    # all the photos together with a video editing software)\n",
    "    for i in range(N):\n",
    "        Ux = scale * disp[0::3, i]\n",
    "        Uy = scale * disp[1::3, i]\n",
    "        Uz = scale * disp[2::3, i]\n",
    "        \n",
    "        lines = [list(zip(X[elem] + Ux[elem], Y[elem] + Uy[elem], Z[elem] + Uz[elem])) for elem in Tnod]\n",
    "        lc.set_segments(lines)\n",
    "        lc.set_array(stress[:, i])\n",
    "        ax.set_title(f'scale = {scale} (σ_min = {np.min(stress[:, i]):.3g} {units} | σ_max = {np.max(stress[:, i]):.3g} {units} | time {time} s)')\n",
    "        #plt.draw()\n",
    "        #plt.pause(0.1)\n",
    "    \n",
    "    plt.savefig(f\"{name}.png\")\n",
    "    # plt.show()"
   ]
  },
  {
   "cell_type": "markdown",
   "metadata": {},
   "source": [
    "## Problem definition\n",
    "\n",
    "First, we are going to assign the masses to each node, using the given densities and knowing that the total mass of the Solar Sail is 100Kg. This together with knowing that the rest of the mass is distributed according to the given percentages, we are able to compute how much mass each node will have for this simulation"
   ]
  },
  {
   "cell_type": "code",
   "execution_count": 43,
   "metadata": {},
   "outputs": [
    {
     "data": {
      "text/plain": [
       "(array([0.22396791, 0.06117869, 0.06117869, 0.06117869, 0.06117869,\n",
       "        0.26121356, 0.06752594, 0.06752594, 0.06752594, 0.06752594]),\n",
       " np.float64(1.0))"
      ]
     },
     "execution_count": 43,
     "metadata": {},
     "output_type": "execute_result"
    }
   ],
   "source": [
    "mass_distribution = np.zeros((nnod)) # Empty List\n",
    "for e in range(nel):\n",
    "    node_0 = Tnod[e][0] # Node 0 of element\n",
    "    node_1 = Tnod[e][1] # Node 1 of element\n",
    "    x1, y1, z1 = xnod[node_0]  # Get coordinates\n",
    "    x2, y2, z2 = xnod[node_1]  # Get coordinates\n",
    "    E, A, d, sigma_0 = mat[Tmat[e]] # Get Material Info\n",
    "    l = np.sqrt((x2- x1) ** 2 + (y2 - y1) ** 2 + (z2 - z1) ** 2) # Compute its length\n",
    "    element_mass = d * l * A # Compute the mass of the element\n",
    "\n",
    "    # Give half the mass to Node 0 and the other half to Node 1 for each element:\n",
    "    mass_distribution[node_0] += (1/2) * element_mass \n",
    "    mass_distribution[node_1] += (1/2) * element_mass\n",
    "\n",
    "# Knowing that the total mass of the sail is 100 kg,\n",
    "MT = 100\n",
    "\n",
    "# The rest of mass we have left over is:\n",
    "Leftover = MT - np.sum(mass_distribution)\n",
    "\n",
    "# So we can distribute it to each node according to the specification:\n",
    "mass_distribution[0] += 0.2 * Leftover\n",
    "mass_distribution[1] += 0.1 * Leftover\n",
    "mass_distribution[2] += 0.1 * Leftover\n",
    "mass_distribution[3] += 0.1 * Leftover\n",
    "mass_distribution[4] += 0.1 * Leftover\n",
    "mass_distribution[5] += 0.4 * Leftover\n",
    "\n",
    "# From here, I assign a percentage of the total mass that each node will have.\n",
    "mass_percentages = mass_distribution / MT\n",
    "mass_percentages, np.sum(mass_percentages)"
   ]
  },
  {
   "cell_type": "code",
   "execution_count": null,
   "metadata": {},
   "outputs": [],
   "source": [
    "# Variables given:\n",
    "total_area = L ** 2\n",
    "d_force = 200e3 # m\n",
    "Vp = 125000e3 #m/s\n",
    "Mp = 4.468e6 # kg\n",
    "tp = 0.1\n",
    "S = 900 # m^2\n",
    "M = 100 # kg\n",
    "\n",
    "# Formula definition:\n",
    "mp = lambda t: (np.pi/2)*(Mp/tp)*np.sin((np.pi * t )/tp)\n",
    "p = lambda t: (mp(t)/(4*np.pi*d_force ** 2))*Vp\n",
    "linear_momentum = lambda t: (mp(t) * S * Vp)/(4 * np.pi * d_force ** 2)\n",
    "\n",
    "# This function will give us the fdata for a given timestamp\n",
    "def get_fdata(t):\n",
    "\n",
    "    # For each node we take into account two forces: Inertial forces, \n",
    "    # that will want to keep the structure as it is and pressure forces, \n",
    "    # that want to push the structure forward. Pressure forces have a \n",
    "    # positive sign in the y direction and intertial will have negative sign.\n",
    "\n",
    "    fdata = np.array([ \n",
    "        [0, 1, - linear_momentum(t) * mass_percentages[0]],\n",
    "        [1, 1, total_area*(3/16)*p(t) - linear_momentum(t) * mass_percentages[1]],\n",
    "        [2, 1, total_area*(3/16)*p(t) - linear_momentum(t) * mass_percentages[2]],\n",
    "        [3, 1, total_area*(3/16)*p(t) - linear_momentum(t) * mass_percentages[3]],\n",
    "        [4, 1, total_area*(3/16)*p(t) - linear_momentum(t) * mass_percentages[4]],\n",
    "        [5, 1,  - linear_momentum(t) * mass_percentages[5]],\n",
    "        [6, 1, total_area*(1/16)*p(t) - linear_momentum(t) * mass_percentages[6]],\n",
    "        [7, 1, total_area*(1/16)*p(t) - linear_momentum(t) * mass_percentages[7]],\n",
    "        [8, 1, total_area*(1/16)*p(t) - linear_momentum(t) * mass_percentages[8]],\n",
    "        [9, 1, total_area*(1/16)*p(t) - linear_momentum(t) * mass_percentages[9]],\n",
    "    ])\n",
    "    return fdata\n",
    "\n",
    "fixnod = np.array([\n",
    "    # node, axis, displ\n",
    "    [0, 0, 0],\n",
    "    [0, 1, 0],\n",
    "    [0, 2, 0],\n",
    "    [3, 0, 0],\n",
    "    [5, 2, 0],\n",
    "    [5, 0, 0],\n",
    "]) # Fixed Nodes"
   ]
  },
  {
   "cell_type": "markdown",
   "metadata": {},
   "source": [
    "## Computing the solution to the problem\n",
    "\n",
    "Now, we will use the solver we created previously to compute the solution to the problem, obtaining displacements, reactions and stresses."
   ]
  },
  {
   "cell_type": "code",
   "execution_count": null,
   "metadata": {},
   "outputs": [],
   "source": [
    "for time in np.arange(0.0, 0.1, 0.01):\n",
    "    fdata = get_fdata(time) # we get the data\n",
    "    disp, reac, stress, strain = solver(xnod, Tnod, mat, Tmat, fixnod, fdata) # we solve the problem\n",
    "    plot3DBars(xnod, Tnod, disp, stress*1e-9, 1, \"GPa\", f\"./imgs/{time}_IMG\", time)"
   ]
  },
  {
   "cell_type": "markdown",
   "metadata": {},
   "source": [
    "Where the result we get is the following:\n",
    "\n",
    "<img src=\"./AO2.gif\">"
   ]
  },
  {
   "cell_type": "markdown",
   "metadata": {},
   "source": [
    "## Discussion:\n",
    "\n",
    "The results of this simulation show extreme deformation, to the point that with scale 1 you can observe the entire structure deforming around 2 meters in the y direction. Stresses are also very high for this kind of material, so the conclusion on how to improve this design is to add more nodes or increase the material strength or area of those in the sail. The bar that handles most of the pressure is the one between node 1 and 6 in Figure 1, which is also where the sail broke in the movie (some of the bolts got loose).\n",
    "\n",
    "One improvement that could increase the chances of success of this mission would be to make everything out of a higher strength material like material number 4. Sure it would increase weight, but otherwise this mission will fail."
   ]
  }
 ],
 "metadata": {
  "kernelspec": {
   "display_name": "Python 3",
   "language": "python",
   "name": "python3"
  },
  "language_info": {
   "codemirror_mode": {
    "name": "ipython",
    "version": 3
   },
   "file_extension": ".py",
   "mimetype": "text/x-python",
   "name": "python",
   "nbconvert_exporter": "python",
   "pygments_lexer": "ipython3",
   "version": "3.13.0"
  }
 },
 "nbformat": 4,
 "nbformat_minor": 2
}
